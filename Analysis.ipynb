{
 "cells": [
  {
   "cell_type": "code",
   "execution_count": 1,
   "metadata": {},
   "outputs": [],
   "source": [
    "import pandas as pd\n",
    "import matplotlib.pyplot as plt\n",
    "import seaborn as sns\n",
    "\n",
    "%matplotlib inline"
   ]
  },
  {
   "cell_type": "code",
   "execution_count": 2,
   "metadata": {},
   "outputs": [],
   "source": [
    "import numpy as np"
   ]
  },
  {
   "cell_type": "code",
   "execution_count": 225,
   "metadata": {},
   "outputs": [],
   "source": [
    "df=pd.read_csv(\"F:\\college\\college\\sem7\\MLDA\\Project\\occupancy_data\\datatraining.txt\")"
   ]
  },
  {
   "cell_type": "code",
   "execution_count": null,
   "metadata": {},
   "outputs": [],
   "source": []
  },
  {
   "cell_type": "code",
   "execution_count": 81,
   "metadata": {},
   "outputs": [
    {
     "data": {
      "text/html": [
       "<div>\n",
       "<style scoped>\n",
       "    .dataframe tbody tr th:only-of-type {\n",
       "        vertical-align: middle;\n",
       "    }\n",
       "\n",
       "    .dataframe tbody tr th {\n",
       "        vertical-align: top;\n",
       "    }\n",
       "\n",
       "    .dataframe thead th {\n",
       "        text-align: right;\n",
       "    }\n",
       "</style>\n",
       "<table border=\"1\" class=\"dataframe\">\n",
       "  <thead>\n",
       "    <tr style=\"text-align: right;\">\n",
       "      <th></th>\n",
       "      <th>date</th>\n",
       "      <th>Temperature</th>\n",
       "      <th>Humidity</th>\n",
       "      <th>Light</th>\n",
       "      <th>CO2</th>\n",
       "      <th>HumidityRatio</th>\n",
       "      <th>Occupancy</th>\n",
       "    </tr>\n",
       "  </thead>\n",
       "  <tbody>\n",
       "    <tr>\n",
       "      <th>1</th>\n",
       "      <td>2015-02-04 17:51:00</td>\n",
       "      <td>23.180</td>\n",
       "      <td>27.272000</td>\n",
       "      <td>256.375</td>\n",
       "      <td>638.83</td>\n",
       "      <td>0.00435</td>\n",
       "      <td>1</td>\n",
       "    </tr>\n",
       "    <tr>\n",
       "      <th>2</th>\n",
       "      <td>2015-02-04 17:51:59</td>\n",
       "      <td>23.150</td>\n",
       "      <td>27.267500</td>\n",
       "      <td>256.375</td>\n",
       "      <td>638.83</td>\n",
       "      <td>0.00435</td>\n",
       "      <td>1</td>\n",
       "    </tr>\n",
       "    <tr>\n",
       "      <th>3</th>\n",
       "      <td>2015-02-04 17:53:00</td>\n",
       "      <td>23.150</td>\n",
       "      <td>27.245000</td>\n",
       "      <td>256.375</td>\n",
       "      <td>638.83</td>\n",
       "      <td>0.00435</td>\n",
       "      <td>1</td>\n",
       "    </tr>\n",
       "    <tr>\n",
       "      <th>4</th>\n",
       "      <td>2015-02-04 17:54:00</td>\n",
       "      <td>23.150</td>\n",
       "      <td>27.200000</td>\n",
       "      <td>256.375</td>\n",
       "      <td>638.83</td>\n",
       "      <td>0.00435</td>\n",
       "      <td>1</td>\n",
       "    </tr>\n",
       "    <tr>\n",
       "      <th>5</th>\n",
       "      <td>2015-02-04 17:55:00</td>\n",
       "      <td>23.100</td>\n",
       "      <td>27.200000</td>\n",
       "      <td>256.375</td>\n",
       "      <td>638.83</td>\n",
       "      <td>0.00435</td>\n",
       "      <td>1</td>\n",
       "    </tr>\n",
       "    <tr>\n",
       "      <th>6</th>\n",
       "      <td>2015-02-04 17:55:59</td>\n",
       "      <td>23.100</td>\n",
       "      <td>27.200000</td>\n",
       "      <td>256.375</td>\n",
       "      <td>638.83</td>\n",
       "      <td>0.00435</td>\n",
       "      <td>1</td>\n",
       "    </tr>\n",
       "    <tr>\n",
       "      <th>7</th>\n",
       "      <td>2015-02-04 17:57:00</td>\n",
       "      <td>23.100</td>\n",
       "      <td>27.200000</td>\n",
       "      <td>256.375</td>\n",
       "      <td>638.83</td>\n",
       "      <td>0.00435</td>\n",
       "      <td>1</td>\n",
       "    </tr>\n",
       "    <tr>\n",
       "      <th>8</th>\n",
       "      <td>2015-02-04 17:57:59</td>\n",
       "      <td>23.100</td>\n",
       "      <td>27.200000</td>\n",
       "      <td>256.375</td>\n",
       "      <td>638.83</td>\n",
       "      <td>0.00435</td>\n",
       "      <td>1</td>\n",
       "    </tr>\n",
       "    <tr>\n",
       "      <th>9</th>\n",
       "      <td>2015-02-04 17:58:59</td>\n",
       "      <td>23.100</td>\n",
       "      <td>27.200000</td>\n",
       "      <td>256.375</td>\n",
       "      <td>638.83</td>\n",
       "      <td>0.00435</td>\n",
       "      <td>1</td>\n",
       "    </tr>\n",
       "    <tr>\n",
       "      <th>10</th>\n",
       "      <td>2015-02-04 18:00:00</td>\n",
       "      <td>23.075</td>\n",
       "      <td>27.175000</td>\n",
       "      <td>256.375</td>\n",
       "      <td>638.83</td>\n",
       "      <td>0.00435</td>\n",
       "      <td>1</td>\n",
       "    </tr>\n",
       "    <tr>\n",
       "      <th>11</th>\n",
       "      <td>2015-02-04 18:01:00</td>\n",
       "      <td>23.075</td>\n",
       "      <td>27.150000</td>\n",
       "      <td>256.375</td>\n",
       "      <td>638.83</td>\n",
       "      <td>0.00435</td>\n",
       "      <td>1</td>\n",
       "    </tr>\n",
       "    <tr>\n",
       "      <th>12</th>\n",
       "      <td>2015-02-04 18:02:00</td>\n",
       "      <td>23.100</td>\n",
       "      <td>27.100000</td>\n",
       "      <td>256.375</td>\n",
       "      <td>638.83</td>\n",
       "      <td>0.00435</td>\n",
       "      <td>1</td>\n",
       "    </tr>\n",
       "    <tr>\n",
       "      <th>13</th>\n",
       "      <td>2015-02-04 18:03:00</td>\n",
       "      <td>23.100</td>\n",
       "      <td>27.166667</td>\n",
       "      <td>256.375</td>\n",
       "      <td>638.83</td>\n",
       "      <td>0.00435</td>\n",
       "      <td>1</td>\n",
       "    </tr>\n",
       "    <tr>\n",
       "      <th>14</th>\n",
       "      <td>2015-02-04 18:04:00</td>\n",
       "      <td>23.050</td>\n",
       "      <td>27.150000</td>\n",
       "      <td>256.375</td>\n",
       "      <td>638.83</td>\n",
       "      <td>0.00435</td>\n",
       "      <td>1</td>\n",
       "    </tr>\n",
       "    <tr>\n",
       "      <th>15</th>\n",
       "      <td>2015-02-04 18:04:59</td>\n",
       "      <td>23.000</td>\n",
       "      <td>27.125000</td>\n",
       "      <td>256.375</td>\n",
       "      <td>638.83</td>\n",
       "      <td>0.00435</td>\n",
       "      <td>1</td>\n",
       "    </tr>\n",
       "    <tr>\n",
       "      <th>16</th>\n",
       "      <td>2015-02-04 18:06:00</td>\n",
       "      <td>23.000</td>\n",
       "      <td>27.125000</td>\n",
       "      <td>256.375</td>\n",
       "      <td>638.83</td>\n",
       "      <td>0.00435</td>\n",
       "      <td>1</td>\n",
       "    </tr>\n",
       "    <tr>\n",
       "      <th>17</th>\n",
       "      <td>2015-02-04 18:07:00</td>\n",
       "      <td>23.000</td>\n",
       "      <td>27.200000</td>\n",
       "      <td>0.000</td>\n",
       "      <td>638.83</td>\n",
       "      <td>0.00435</td>\n",
       "      <td>0</td>\n",
       "    </tr>\n",
       "    <tr>\n",
       "      <th>18</th>\n",
       "      <td>2015-02-04 18:08:00</td>\n",
       "      <td>22.945</td>\n",
       "      <td>27.290000</td>\n",
       "      <td>0.000</td>\n",
       "      <td>638.83</td>\n",
       "      <td>0.00435</td>\n",
       "      <td>0</td>\n",
       "    </tr>\n",
       "    <tr>\n",
       "      <th>19</th>\n",
       "      <td>2015-02-04 18:08:59</td>\n",
       "      <td>22.945</td>\n",
       "      <td>27.390000</td>\n",
       "      <td>0.000</td>\n",
       "      <td>638.83</td>\n",
       "      <td>0.00435</td>\n",
       "      <td>0</td>\n",
       "    </tr>\n",
       "    <tr>\n",
       "      <th>20</th>\n",
       "      <td>2015-02-04 18:10:00</td>\n",
       "      <td>22.890</td>\n",
       "      <td>27.390000</td>\n",
       "      <td>0.000</td>\n",
       "      <td>638.83</td>\n",
       "      <td>0.00435</td>\n",
       "      <td>0</td>\n",
       "    </tr>\n",
       "    <tr>\n",
       "      <th>21</th>\n",
       "      <td>2015-02-04 18:10:59</td>\n",
       "      <td>22.890</td>\n",
       "      <td>27.390000</td>\n",
       "      <td>0.000</td>\n",
       "      <td>638.83</td>\n",
       "      <td>0.00435</td>\n",
       "      <td>0</td>\n",
       "    </tr>\n",
       "    <tr>\n",
       "      <th>22</th>\n",
       "      <td>2015-02-04 18:11:59</td>\n",
       "      <td>22.890</td>\n",
       "      <td>27.390000</td>\n",
       "      <td>0.000</td>\n",
       "      <td>638.83</td>\n",
       "      <td>0.00435</td>\n",
       "      <td>0</td>\n",
       "    </tr>\n",
       "    <tr>\n",
       "      <th>23</th>\n",
       "      <td>2015-02-04 18:13:00</td>\n",
       "      <td>22.890</td>\n",
       "      <td>27.445000</td>\n",
       "      <td>0.000</td>\n",
       "      <td>638.83</td>\n",
       "      <td>0.00435</td>\n",
       "      <td>0</td>\n",
       "    </tr>\n",
       "    <tr>\n",
       "      <th>24</th>\n",
       "      <td>2015-02-04 18:14:00</td>\n",
       "      <td>22.890</td>\n",
       "      <td>27.500000</td>\n",
       "      <td>0.000</td>\n",
       "      <td>638.83</td>\n",
       "      <td>0.00435</td>\n",
       "      <td>0</td>\n",
       "    </tr>\n",
       "    <tr>\n",
       "      <th>25</th>\n",
       "      <td>2015-02-04 18:15:00</td>\n",
       "      <td>22.890</td>\n",
       "      <td>27.500000</td>\n",
       "      <td>0.000</td>\n",
       "      <td>638.83</td>\n",
       "      <td>0.00435</td>\n",
       "      <td>0</td>\n",
       "    </tr>\n",
       "    <tr>\n",
       "      <th>26</th>\n",
       "      <td>2015-02-04 18:16:00</td>\n",
       "      <td>22.790</td>\n",
       "      <td>27.445000</td>\n",
       "      <td>0.000</td>\n",
       "      <td>638.83</td>\n",
       "      <td>0.00435</td>\n",
       "      <td>0</td>\n",
       "    </tr>\n",
       "    <tr>\n",
       "      <th>27</th>\n",
       "      <td>2015-02-04 18:16:59</td>\n",
       "      <td>22.790</td>\n",
       "      <td>27.500000</td>\n",
       "      <td>0.000</td>\n",
       "      <td>638.83</td>\n",
       "      <td>0.00435</td>\n",
       "      <td>0</td>\n",
       "    </tr>\n",
       "    <tr>\n",
       "      <th>28</th>\n",
       "      <td>2015-02-04 18:17:59</td>\n",
       "      <td>22.790</td>\n",
       "      <td>27.500000</td>\n",
       "      <td>0.000</td>\n",
       "      <td>638.83</td>\n",
       "      <td>0.00435</td>\n",
       "      <td>0</td>\n",
       "    </tr>\n",
       "    <tr>\n",
       "      <th>29</th>\n",
       "      <td>2015-02-04 18:19:00</td>\n",
       "      <td>22.790</td>\n",
       "      <td>27.500000</td>\n",
       "      <td>0.000</td>\n",
       "      <td>638.83</td>\n",
       "      <td>0.00435</td>\n",
       "      <td>0</td>\n",
       "    </tr>\n",
       "    <tr>\n",
       "      <th>30</th>\n",
       "      <td>2015-02-04 18:20:00</td>\n",
       "      <td>22.745</td>\n",
       "      <td>27.500000</td>\n",
       "      <td>0.000</td>\n",
       "      <td>638.83</td>\n",
       "      <td>0.00435</td>\n",
       "      <td>0</td>\n",
       "    </tr>\n",
       "  </tbody>\n",
       "</table>\n",
       "</div>"
      ],
      "text/plain": [
       "                   date  Temperature   Humidity    Light     CO2  \\\n",
       "1   2015-02-04 17:51:00       23.180  27.272000  256.375  638.83   \n",
       "2   2015-02-04 17:51:59       23.150  27.267500  256.375  638.83   \n",
       "3   2015-02-04 17:53:00       23.150  27.245000  256.375  638.83   \n",
       "4   2015-02-04 17:54:00       23.150  27.200000  256.375  638.83   \n",
       "5   2015-02-04 17:55:00       23.100  27.200000  256.375  638.83   \n",
       "6   2015-02-04 17:55:59       23.100  27.200000  256.375  638.83   \n",
       "7   2015-02-04 17:57:00       23.100  27.200000  256.375  638.83   \n",
       "8   2015-02-04 17:57:59       23.100  27.200000  256.375  638.83   \n",
       "9   2015-02-04 17:58:59       23.100  27.200000  256.375  638.83   \n",
       "10  2015-02-04 18:00:00       23.075  27.175000  256.375  638.83   \n",
       "11  2015-02-04 18:01:00       23.075  27.150000  256.375  638.83   \n",
       "12  2015-02-04 18:02:00       23.100  27.100000  256.375  638.83   \n",
       "13  2015-02-04 18:03:00       23.100  27.166667  256.375  638.83   \n",
       "14  2015-02-04 18:04:00       23.050  27.150000  256.375  638.83   \n",
       "15  2015-02-04 18:04:59       23.000  27.125000  256.375  638.83   \n",
       "16  2015-02-04 18:06:00       23.000  27.125000  256.375  638.83   \n",
       "17  2015-02-04 18:07:00       23.000  27.200000    0.000  638.83   \n",
       "18  2015-02-04 18:08:00       22.945  27.290000    0.000  638.83   \n",
       "19  2015-02-04 18:08:59       22.945  27.390000    0.000  638.83   \n",
       "20  2015-02-04 18:10:00       22.890  27.390000    0.000  638.83   \n",
       "21  2015-02-04 18:10:59       22.890  27.390000    0.000  638.83   \n",
       "22  2015-02-04 18:11:59       22.890  27.390000    0.000  638.83   \n",
       "23  2015-02-04 18:13:00       22.890  27.445000    0.000  638.83   \n",
       "24  2015-02-04 18:14:00       22.890  27.500000    0.000  638.83   \n",
       "25  2015-02-04 18:15:00       22.890  27.500000    0.000  638.83   \n",
       "26  2015-02-04 18:16:00       22.790  27.445000    0.000  638.83   \n",
       "27  2015-02-04 18:16:59       22.790  27.500000    0.000  638.83   \n",
       "28  2015-02-04 18:17:59       22.790  27.500000    0.000  638.83   \n",
       "29  2015-02-04 18:19:00       22.790  27.500000    0.000  638.83   \n",
       "30  2015-02-04 18:20:00       22.745  27.500000    0.000  638.83   \n",
       "\n",
       "    HumidityRatio  Occupancy  \n",
       "1         0.00435          1  \n",
       "2         0.00435          1  \n",
       "3         0.00435          1  \n",
       "4         0.00435          1  \n",
       "5         0.00435          1  \n",
       "6         0.00435          1  \n",
       "7         0.00435          1  \n",
       "8         0.00435          1  \n",
       "9         0.00435          1  \n",
       "10        0.00435          1  \n",
       "11        0.00435          1  \n",
       "12        0.00435          1  \n",
       "13        0.00435          1  \n",
       "14        0.00435          1  \n",
       "15        0.00435          1  \n",
       "16        0.00435          1  \n",
       "17        0.00435          0  \n",
       "18        0.00435          0  \n",
       "19        0.00435          0  \n",
       "20        0.00435          0  \n",
       "21        0.00435          0  \n",
       "22        0.00435          0  \n",
       "23        0.00435          0  \n",
       "24        0.00435          0  \n",
       "25        0.00435          0  \n",
       "26        0.00435          0  \n",
       "27        0.00435          0  \n",
       "28        0.00435          0  \n",
       "29        0.00435          0  \n",
       "30        0.00435          0  "
      ]
     },
     "execution_count": 81,
     "metadata": {},
     "output_type": "execute_result"
    }
   ],
   "source": [
    "df[0:30]"
   ]
  },
  {
   "cell_type": "code",
   "execution_count": 77,
   "metadata": {},
   "outputs": [
    {
     "data": {
      "text/html": [
       "<div>\n",
       "<style scoped>\n",
       "    .dataframe tbody tr th:only-of-type {\n",
       "        vertical-align: middle;\n",
       "    }\n",
       "\n",
       "    .dataframe tbody tr th {\n",
       "        vertical-align: top;\n",
       "    }\n",
       "\n",
       "    .dataframe thead th {\n",
       "        text-align: right;\n",
       "    }\n",
       "</style>\n",
       "<table border=\"1\" class=\"dataframe\">\n",
       "  <thead>\n",
       "    <tr style=\"text-align: right;\">\n",
       "      <th></th>\n",
       "      <th>Temperature</th>\n",
       "      <th>Humidity</th>\n",
       "      <th>Light</th>\n",
       "      <th>CO2</th>\n",
       "      <th>HumidityRatio</th>\n",
       "      <th>Occupancy</th>\n",
       "    </tr>\n",
       "  </thead>\n",
       "  <tbody>\n",
       "    <tr>\n",
       "      <th>count</th>\n",
       "      <td>8143.000000</td>\n",
       "      <td>8143.000000</td>\n",
       "      <td>8143.000000</td>\n",
       "      <td>8143.000000</td>\n",
       "      <td>8143.000000</td>\n",
       "      <td>8143.000000</td>\n",
       "    </tr>\n",
       "    <tr>\n",
       "      <th>mean</th>\n",
       "      <td>20.619084</td>\n",
       "      <td>25.731507</td>\n",
       "      <td>119.519375</td>\n",
       "      <td>606.546243</td>\n",
       "      <td>0.003863</td>\n",
       "      <td>0.212330</td>\n",
       "    </tr>\n",
       "    <tr>\n",
       "      <th>std</th>\n",
       "      <td>1.016916</td>\n",
       "      <td>5.531211</td>\n",
       "      <td>194.755805</td>\n",
       "      <td>314.320877</td>\n",
       "      <td>0.000852</td>\n",
       "      <td>0.408982</td>\n",
       "    </tr>\n",
       "    <tr>\n",
       "      <th>min</th>\n",
       "      <td>19.000000</td>\n",
       "      <td>16.745000</td>\n",
       "      <td>0.000000</td>\n",
       "      <td>412.750000</td>\n",
       "      <td>0.002674</td>\n",
       "      <td>0.000000</td>\n",
       "    </tr>\n",
       "    <tr>\n",
       "      <th>25%</th>\n",
       "      <td>19.700000</td>\n",
       "      <td>20.200000</td>\n",
       "      <td>0.000000</td>\n",
       "      <td>439.000000</td>\n",
       "      <td>0.003078</td>\n",
       "      <td>0.000000</td>\n",
       "    </tr>\n",
       "    <tr>\n",
       "      <th>50%</th>\n",
       "      <td>20.390000</td>\n",
       "      <td>26.222500</td>\n",
       "      <td>0.000000</td>\n",
       "      <td>453.500000</td>\n",
       "      <td>0.003801</td>\n",
       "      <td>0.000000</td>\n",
       "    </tr>\n",
       "    <tr>\n",
       "      <th>75%</th>\n",
       "      <td>21.390000</td>\n",
       "      <td>30.533333</td>\n",
       "      <td>256.375000</td>\n",
       "      <td>638.833333</td>\n",
       "      <td>0.004352</td>\n",
       "      <td>0.000000</td>\n",
       "    </tr>\n",
       "    <tr>\n",
       "      <th>max</th>\n",
       "      <td>23.180000</td>\n",
       "      <td>39.117500</td>\n",
       "      <td>1546.333333</td>\n",
       "      <td>2028.500000</td>\n",
       "      <td>0.006476</td>\n",
       "      <td>1.000000</td>\n",
       "    </tr>\n",
       "  </tbody>\n",
       "</table>\n",
       "</div>"
      ],
      "text/plain": [
       "       Temperature     Humidity        Light          CO2  HumidityRatio  \\\n",
       "count  8143.000000  8143.000000  8143.000000  8143.000000    8143.000000   \n",
       "mean     20.619084    25.731507   119.519375   606.546243       0.003863   \n",
       "std       1.016916     5.531211   194.755805   314.320877       0.000852   \n",
       "min      19.000000    16.745000     0.000000   412.750000       0.002674   \n",
       "25%      19.700000    20.200000     0.000000   439.000000       0.003078   \n",
       "50%      20.390000    26.222500     0.000000   453.500000       0.003801   \n",
       "75%      21.390000    30.533333   256.375000   638.833333       0.004352   \n",
       "max      23.180000    39.117500  1546.333333  2028.500000       0.006476   \n",
       "\n",
       "         Occupancy  \n",
       "count  8143.000000  \n",
       "mean      0.212330  \n",
       "std       0.408982  \n",
       "min       0.000000  \n",
       "25%       0.000000  \n",
       "50%       0.000000  \n",
       "75%       0.000000  \n",
       "max       1.000000  "
      ]
     },
     "execution_count": 77,
     "metadata": {},
     "output_type": "execute_result"
    }
   ],
   "source": [
    "df.describe()"
   ]
  },
  {
   "cell_type": "code",
   "execution_count": 78,
   "metadata": {},
   "outputs": [
    {
     "data": {
      "text/plain": [
       "count    8143.000000\n",
       "mean      119.519375\n",
       "std       194.755805\n",
       "min         0.000000\n",
       "25%         0.000000\n",
       "50%         0.000000\n",
       "75%       256.375000\n",
       "max      1546.333333\n",
       "Name: Light, dtype: float64"
      ]
     },
     "execution_count": 78,
     "metadata": {},
     "output_type": "execute_result"
    },
    {
     "data": {
      "image/png": "[encoded data removed]",
      "text/plain": [
       "<Figure size 432x288 with 1 Axes>"
      ]
     },
     "metadata": {
      "needs_background": "light"
     },
     "output_type": "display_data"
    }
   ],
   "source": [
    "sns.boxplot(df.Light)\n",
    "df['Light'].describe()"
   ]
  },
  {
   "cell_type": "code",
   "execution_count": 6,
   "metadata": {},
   "outputs": [
    {
     "data": {
      "text/plain": [
       "<matplotlib.axes._subplots.AxesSubplot at 0x1f55b905370>"
      ]
     },
     "execution_count": 6,
     "metadata": {},
     "output_type": "execute_result"
    },
    {
     "data": {
      "image/png": "[encoded data removed]",
      "text/plain": [
       "<Figure size 432x288 with 1 Axes>"
      ]
     },
     "metadata": {
      "needs_background": "light"
     },
     "output_type": "display_data"
    }
   ],
   "source": [
    "sns.boxplot(df.Humidity)\n"
   ]
  },
  {
   "cell_type": "code",
   "execution_count": 7,
   "metadata": {},
   "outputs": [
    {
     "data": {
      "text/plain": [
       "count    8143.000000\n",
       "mean        0.003863\n",
       "std         0.000852\n",
       "min         0.002674\n",
       "25%         0.003078\n",
       "50%         0.003801\n",
       "75%         0.004352\n",
       "max         0.006476\n",
       "Name: HumidityRatio, dtype: float64"
      ]
     },
     "execution_count": 7,
     "metadata": {},
     "output_type": "execute_result"
    },
    {
     "data": {
      "image/png": "[encoded data removed]",
      "text/plain": [
       "<Figure size 432x288 with 1 Axes>"
      ]
     },
     "metadata": {
      "needs_background": "light"
     },
     "output_type": "display_data"
    }
   ],
   "source": [
    "sns.boxplot(df.HumidityRatio)\n",
    "df['HumidityRatio'].describe()"
   ]
  },
  {
   "cell_type": "code",
   "execution_count": 8,
   "metadata": {},
   "outputs": [
    {
     "data": {
      "text/plain": [
       "count    8143.000000\n",
       "mean      606.546243\n",
       "std       314.320877\n",
       "min       412.750000\n",
       "25%       439.000000\n",
       "50%       453.500000\n",
       "75%       638.833333\n",
       "max      2028.500000\n",
       "Name: CO2, dtype: float64"
      ]
     },
     "execution_count": 8,
     "metadata": {},
     "output_type": "execute_result"
    },
    {
     "data": {
      "image/png": "[encoded data removed]",
      "text/plain": [
       "<Figure size 432x288 with 1 Axes>"
      ]
     },
     "metadata": {
      "needs_background": "light"
     },
     "output_type": "display_data"
    }
   ],
   "source": [
    "sns.boxplot(df.CO2)\n",
    "df['CO2'].describe()"
   ]
  },
  {
   "cell_type": "code",
   "execution_count": 9,
   "metadata": {},
   "outputs": [
    {
     "data": {
      "text/plain": [
       "<matplotlib.axes._subplots.AxesSubplot at 0x1f55c1788e0>"
      ]
     },
     "execution_count": 9,
     "metadata": {},
     "output_type": "execute_result"
    },
    {
     "data": {
      "image/png": "[encoded data removed]",
      "text/plain": [
       "<Figure size 432x288 with 1 Axes>"
      ]
     },
     "metadata": {
      "needs_background": "light"
     },
     "output_type": "display_data"
    }
   ],
   "source": [
    "sns.boxplot(df.Temperature)"
   ]
  },
  {
   "cell_type": "code",
   "execution_count": 99,
   "metadata": {},
   "outputs": [],
   "source": [
    "df_new=df[(df['CO2']<=638.833333) & (df['HumidityRatio']<=0.004352) & (df['Light']<=256.375000)]"
   ]
  },
  {
   "cell_type": "code",
   "execution_count": null,
   "metadata": {},
   "outputs": [],
   "source": []
  },
  {
   "cell_type": "code",
   "execution_count": 11,
   "metadata": {},
   "outputs": [
    {
     "data": {
      "text/plain": [
       "(4860, 7)"
      ]
     },
     "execution_count": 11,
     "metadata": {},
     "output_type": "execute_result"
    }
   ],
   "source": [
    "df_new.shape"
   ]
  },
  {
   "cell_type": "code",
   "execution_count": 348,
   "metadata": {},
   "outputs": [],
   "source": [
    "#Manipulating the outliers\n",
    "df['CO2']=np.where(df['CO2']>638.84, 638.83,df['CO2'])\n",
    "df['HumidityRatio']=np.where(df['HumidityRatio']>0.004352, 0.00435,df['HumidityRatio'])\n",
    "df['Light']=np.where(df['Light']>256.375,256.375,df['Light'])"
   ]
  },
  {
   "cell_type": "code",
   "execution_count": 349,
   "metadata": {},
   "outputs": [
    {
     "data": {
      "text/html": [
       "<div>\n",
       "<style scoped>\n",
       "    .dataframe tbody tr th:only-of-type {\n",
       "        vertical-align: middle;\n",
       "    }\n",
       "\n",
       "    .dataframe tbody tr th {\n",
       "        vertical-align: top;\n",
       "    }\n",
       "\n",
       "    .dataframe thead th {\n",
       "        text-align: right;\n",
       "    }\n",
       "</style>\n",
       "<table border=\"1\" class=\"dataframe\">\n",
       "  <thead>\n",
       "    <tr style=\"text-align: right;\">\n",
       "      <th></th>\n",
       "      <th>Temperature</th>\n",
       "      <th>Humidity</th>\n",
       "      <th>Light</th>\n",
       "      <th>CO2</th>\n",
       "      <th>HumidityRatio</th>\n",
       "      <th>Occupancy</th>\n",
       "    </tr>\n",
       "  </thead>\n",
       "  <tbody>\n",
       "    <tr>\n",
       "      <th>count</th>\n",
       "      <td>8143.000000</td>\n",
       "      <td>8143.000000</td>\n",
       "      <td>8143.000000</td>\n",
       "      <td>8143.000000</td>\n",
       "      <td>8143.000000</td>\n",
       "      <td>8143.000000</td>\n",
       "    </tr>\n",
       "    <tr>\n",
       "      <th>mean</th>\n",
       "      <td>20.619084</td>\n",
       "      <td>25.731507</td>\n",
       "      <td>71.864759</td>\n",
       "      <td>502.112610</td>\n",
       "      <td>0.003698</td>\n",
       "      <td>0.212330</td>\n",
       "    </tr>\n",
       "    <tr>\n",
       "      <th>std</th>\n",
       "      <td>1.016916</td>\n",
       "      <td>5.531211</td>\n",
       "      <td>110.790013</td>\n",
       "      <td>85.451328</td>\n",
       "      <td>0.000599</td>\n",
       "      <td>0.408982</td>\n",
       "    </tr>\n",
       "    <tr>\n",
       "      <th>min</th>\n",
       "      <td>19.000000</td>\n",
       "      <td>16.745000</td>\n",
       "      <td>0.000000</td>\n",
       "      <td>412.750000</td>\n",
       "      <td>0.002674</td>\n",
       "      <td>0.000000</td>\n",
       "    </tr>\n",
       "    <tr>\n",
       "      <th>25%</th>\n",
       "      <td>19.700000</td>\n",
       "      <td>20.200000</td>\n",
       "      <td>0.000000</td>\n",
       "      <td>439.000000</td>\n",
       "      <td>0.003078</td>\n",
       "      <td>0.000000</td>\n",
       "    </tr>\n",
       "    <tr>\n",
       "      <th>50%</th>\n",
       "      <td>20.390000</td>\n",
       "      <td>26.222500</td>\n",
       "      <td>0.000000</td>\n",
       "      <td>453.500000</td>\n",
       "      <td>0.003801</td>\n",
       "      <td>0.000000</td>\n",
       "    </tr>\n",
       "    <tr>\n",
       "      <th>75%</th>\n",
       "      <td>21.390000</td>\n",
       "      <td>30.533333</td>\n",
       "      <td>256.187500</td>\n",
       "      <td>638.748333</td>\n",
       "      <td>0.004350</td>\n",
       "      <td>0.000000</td>\n",
       "    </tr>\n",
       "    <tr>\n",
       "      <th>max</th>\n",
       "      <td>23.180000</td>\n",
       "      <td>39.117500</td>\n",
       "      <td>256.375000</td>\n",
       "      <td>638.830000</td>\n",
       "      <td>0.004352</td>\n",
       "      <td>1.000000</td>\n",
       "    </tr>\n",
       "  </tbody>\n",
       "</table>\n",
       "</div>"
      ],
      "text/plain": [
       "       Temperature     Humidity        Light          CO2  HumidityRatio  \\\n",
       "count  8143.000000  8143.000000  8143.000000  8143.000000    8143.000000   \n",
       "mean     20.619084    25.731507    71.864759   502.112610       0.003698   \n",
       "std       1.016916     5.531211   110.790013    85.451328       0.000599   \n",
       "min      19.000000    16.745000     0.000000   412.750000       0.002674   \n",
       "25%      19.700000    20.200000     0.000000   439.000000       0.003078   \n",
       "50%      20.390000    26.222500     0.000000   453.500000       0.003801   \n",
       "75%      21.390000    30.533333   256.187500   638.748333       0.004350   \n",
       "max      23.180000    39.117500   256.375000   638.830000       0.004352   \n",
       "\n",
       "         Occupancy  \n",
       "count  8143.000000  \n",
       "mean      0.212330  \n",
       "std       0.408982  \n",
       "min       0.000000  \n",
       "25%       0.000000  \n",
       "50%       0.000000  \n",
       "75%       0.000000  \n",
       "max       1.000000  "
      ]
     },
     "execution_count": 349,
     "metadata": {},
     "output_type": "execute_result"
    }
   ],
   "source": [
    "df.describe()"
   ]
  },
  {
   "cell_type": "code",
   "execution_count": 85,
   "metadata": {},
   "outputs": [
    {
     "data": {
      "text/plain": [
       "<matplotlib.axes._subplots.AxesSubplot at 0x1f5612793d0>"
      ]
     },
     "execution_count": 85,
     "metadata": {},
     "output_type": "execute_result"
    },
    {
     "data": {
      "image/png": "[encoded data removed]",
      "text/plain": [
       "<Figure size 432x288 with 1 Axes>"
      ]
     },
     "metadata": {
      "needs_background": "light"
     },
     "output_type": "display_data"
    }
   ],
   "source": [
    "sns.boxplot(df.Light)"
   ]
  },
  {
   "cell_type": "code",
   "execution_count": 14,
   "metadata": {},
   "outputs": [
    {
     "data": {
      "text/plain": [
       "<matplotlib.axes._subplots.AxesSubplot at 0x1f55c21ef10>"
      ]
     },
     "execution_count": 14,
     "metadata": {},
     "output_type": "execute_result"
    },
    {
     "data": {
      "image/png": "[encoded data removed]",
      "text/plain": [
       "<Figure size 432x288 with 1 Axes>"
      ]
     },
     "metadata": {
      "needs_background": "light"
     },
     "output_type": "display_data"
    }
   ],
   "source": [
    "sns.boxplot(df.Humidity)"
   ]
  },
  {
   "cell_type": "code",
   "execution_count": 15,
   "metadata": {},
   "outputs": [
    {
     "data": {
      "text/plain": [
       "<matplotlib.axes._subplots.AxesSubplot at 0x1f55c279070>"
      ]
     },
     "execution_count": 15,
     "metadata": {},
     "output_type": "execute_result"
    },
    {
     "data": {
      "image/png": "[encoded data removed]",
      "text/plain": [
       "<Figure size 432x288 with 1 Axes>"
      ]
     },
     "metadata": {
      "needs_background": "light"
     },
     "output_type": "display_data"
    }
   ],
   "source": [
    "sns.boxplot(df.HumidityRatio)\n"
   ]
  },
  {
   "cell_type": "code",
   "execution_count": 16,
   "metadata": {},
   "outputs": [
    {
     "data": {
      "text/plain": [
       "<matplotlib.axes._subplots.AxesSubplot at 0x1f55c2c1970>"
      ]
     },
     "execution_count": 16,
     "metadata": {},
     "output_type": "execute_result"
    },
    {
     "data": {
      "image/png": "[encoded data removed]",
      "text/plain": [
       "<Figure size 432x288 with 1 Axes>"
      ]
     },
     "metadata": {
      "needs_background": "light"
     },
     "output_type": "display_data"
    }
   ],
   "source": [
    "sns.boxplot(df.CO2)"
   ]
  },
  {
   "cell_type": "code",
   "execution_count": 17,
   "metadata": {},
   "outputs": [],
   "source": [
    "df.to_csv('Manipulated_training_dataset.csv')"
   ]
  },
  {
   "cell_type": "code",
   "execution_count": 18,
   "metadata": {},
   "outputs": [
    {
     "data": {
      "text/html": [
       "<div>\n",
       "<style scoped>\n",
       "    .dataframe tbody tr th:only-of-type {\n",
       "        vertical-align: middle;\n",
       "    }\n",
       "\n",
       "    .dataframe tbody tr th {\n",
       "        vertical-align: top;\n",
       "    }\n",
       "\n",
       "    .dataframe thead th {\n",
       "        text-align: right;\n",
       "    }\n",
       "</style>\n",
       "<table border=\"1\" class=\"dataframe\">\n",
       "  <thead>\n",
       "    <tr style=\"text-align: right;\">\n",
       "      <th></th>\n",
       "      <th>date</th>\n",
       "      <th>Temperature</th>\n",
       "      <th>Humidity</th>\n",
       "      <th>Light</th>\n",
       "      <th>CO2</th>\n",
       "      <th>HumidityRatio</th>\n",
       "      <th>Occupancy</th>\n",
       "    </tr>\n",
       "  </thead>\n",
       "  <tbody>\n",
       "    <tr>\n",
       "      <th>1</th>\n",
       "      <td>2015-02-04 17:51:00</td>\n",
       "      <td>23.18</td>\n",
       "      <td>27.2720</td>\n",
       "      <td>256.375</td>\n",
       "      <td>638.83</td>\n",
       "      <td>0.00435</td>\n",
       "      <td>1</td>\n",
       "    </tr>\n",
       "    <tr>\n",
       "      <th>2</th>\n",
       "      <td>2015-02-04 17:51:59</td>\n",
       "      <td>23.15</td>\n",
       "      <td>27.2675</td>\n",
       "      <td>256.375</td>\n",
       "      <td>638.83</td>\n",
       "      <td>0.00435</td>\n",
       "      <td>1</td>\n",
       "    </tr>\n",
       "    <tr>\n",
       "      <th>3</th>\n",
       "      <td>2015-02-04 17:53:00</td>\n",
       "      <td>23.15</td>\n",
       "      <td>27.2450</td>\n",
       "      <td>256.375</td>\n",
       "      <td>638.83</td>\n",
       "      <td>0.00435</td>\n",
       "      <td>1</td>\n",
       "    </tr>\n",
       "    <tr>\n",
       "      <th>4</th>\n",
       "      <td>2015-02-04 17:54:00</td>\n",
       "      <td>23.15</td>\n",
       "      <td>27.2000</td>\n",
       "      <td>256.375</td>\n",
       "      <td>638.83</td>\n",
       "      <td>0.00435</td>\n",
       "      <td>1</td>\n",
       "    </tr>\n",
       "    <tr>\n",
       "      <th>5</th>\n",
       "      <td>2015-02-04 17:55:00</td>\n",
       "      <td>23.10</td>\n",
       "      <td>27.2000</td>\n",
       "      <td>256.375</td>\n",
       "      <td>638.83</td>\n",
       "      <td>0.00435</td>\n",
       "      <td>1</td>\n",
       "    </tr>\n",
       "    <tr>\n",
       "      <th>...</th>\n",
       "      <td>...</td>\n",
       "      <td>...</td>\n",
       "      <td>...</td>\n",
       "      <td>...</td>\n",
       "      <td>...</td>\n",
       "      <td>...</td>\n",
       "      <td>...</td>\n",
       "    </tr>\n",
       "    <tr>\n",
       "      <th>8139</th>\n",
       "      <td>2015-02-10 09:29:00</td>\n",
       "      <td>21.05</td>\n",
       "      <td>36.0975</td>\n",
       "      <td>256.375</td>\n",
       "      <td>638.83</td>\n",
       "      <td>0.00435</td>\n",
       "      <td>1</td>\n",
       "    </tr>\n",
       "    <tr>\n",
       "      <th>8140</th>\n",
       "      <td>2015-02-10 09:29:59</td>\n",
       "      <td>21.05</td>\n",
       "      <td>35.9950</td>\n",
       "      <td>256.375</td>\n",
       "      <td>638.83</td>\n",
       "      <td>0.00435</td>\n",
       "      <td>1</td>\n",
       "    </tr>\n",
       "    <tr>\n",
       "      <th>8141</th>\n",
       "      <td>2015-02-10 09:30:59</td>\n",
       "      <td>21.10</td>\n",
       "      <td>36.0950</td>\n",
       "      <td>256.375</td>\n",
       "      <td>638.83</td>\n",
       "      <td>0.00435</td>\n",
       "      <td>1</td>\n",
       "    </tr>\n",
       "    <tr>\n",
       "      <th>8142</th>\n",
       "      <td>2015-02-10 09:32:00</td>\n",
       "      <td>21.10</td>\n",
       "      <td>36.2600</td>\n",
       "      <td>256.375</td>\n",
       "      <td>638.83</td>\n",
       "      <td>0.00435</td>\n",
       "      <td>1</td>\n",
       "    </tr>\n",
       "    <tr>\n",
       "      <th>8143</th>\n",
       "      <td>2015-02-10 09:33:00</td>\n",
       "      <td>21.10</td>\n",
       "      <td>36.2000</td>\n",
       "      <td>256.375</td>\n",
       "      <td>638.83</td>\n",
       "      <td>0.00435</td>\n",
       "      <td>1</td>\n",
       "    </tr>\n",
       "  </tbody>\n",
       "</table>\n",
       "<p>8143 rows × 7 columns</p>\n",
       "</div>"
      ],
      "text/plain": [
       "                     date  Temperature  Humidity    Light     CO2  \\\n",
       "1     2015-02-04 17:51:00        23.18   27.2720  256.375  638.83   \n",
       "2     2015-02-04 17:51:59        23.15   27.2675  256.375  638.83   \n",
       "3     2015-02-04 17:53:00        23.15   27.2450  256.375  638.83   \n",
       "4     2015-02-04 17:54:00        23.15   27.2000  256.375  638.83   \n",
       "5     2015-02-04 17:55:00        23.10   27.2000  256.375  638.83   \n",
       "...                   ...          ...       ...      ...     ...   \n",
       "8139  2015-02-10 09:29:00        21.05   36.0975  256.375  638.83   \n",
       "8140  2015-02-10 09:29:59        21.05   35.9950  256.375  638.83   \n",
       "8141  2015-02-10 09:30:59        21.10   36.0950  256.375  638.83   \n",
       "8142  2015-02-10 09:32:00        21.10   36.2600  256.375  638.83   \n",
       "8143  2015-02-10 09:33:00        21.10   36.2000  256.375  638.83   \n",
       "\n",
       "      HumidityRatio  Occupancy  \n",
       "1           0.00435          1  \n",
       "2           0.00435          1  \n",
       "3           0.00435          1  \n",
       "4           0.00435          1  \n",
       "5           0.00435          1  \n",
       "...             ...        ...  \n",
       "8139        0.00435          1  \n",
       "8140        0.00435          1  \n",
       "8141        0.00435          1  \n",
       "8142        0.00435          1  \n",
       "8143        0.00435          1  \n",
       "\n",
       "[8143 rows x 7 columns]"
      ]
     },
     "execution_count": 18,
     "metadata": {},
     "output_type": "execute_result"
    }
   ],
   "source": [
    "df"
   ]
  },
  {
   "cell_type": "code",
   "execution_count": 19,
   "metadata": {},
   "outputs": [
    {
     "data": {
      "text/html": [
       "<div>\n",
       "<style scoped>\n",
       "    .dataframe tbody tr th:only-of-type {\n",
       "        vertical-align: middle;\n",
       "    }\n",
       "\n",
       "    .dataframe tbody tr th {\n",
       "        vertical-align: top;\n",
       "    }\n",
       "\n",
       "    .dataframe thead th {\n",
       "        text-align: right;\n",
       "    }\n",
       "</style>\n",
       "<table border=\"1\" class=\"dataframe\">\n",
       "  <thead>\n",
       "    <tr style=\"text-align: right;\">\n",
       "      <th></th>\n",
       "      <th>date</th>\n",
       "      <th>Temperature</th>\n",
       "      <th>Humidity</th>\n",
       "      <th>Light</th>\n",
       "      <th>CO2</th>\n",
       "      <th>HumidityRatio</th>\n",
       "      <th>Occupancy</th>\n",
       "    </tr>\n",
       "  </thead>\n",
       "  <tbody>\n",
       "    <tr>\n",
       "      <th>1</th>\n",
       "      <td>2015-02-04 17:51:00</td>\n",
       "      <td>23.180</td>\n",
       "      <td>27.272000</td>\n",
       "      <td>256.375</td>\n",
       "      <td>638.83</td>\n",
       "      <td>0.00435</td>\n",
       "      <td>1</td>\n",
       "    </tr>\n",
       "    <tr>\n",
       "      <th>2</th>\n",
       "      <td>2015-02-04 17:51:59</td>\n",
       "      <td>23.150</td>\n",
       "      <td>27.267500</td>\n",
       "      <td>256.375</td>\n",
       "      <td>638.83</td>\n",
       "      <td>0.00435</td>\n",
       "      <td>1</td>\n",
       "    </tr>\n",
       "    <tr>\n",
       "      <th>3</th>\n",
       "      <td>2015-02-04 17:53:00</td>\n",
       "      <td>23.150</td>\n",
       "      <td>27.245000</td>\n",
       "      <td>256.375</td>\n",
       "      <td>638.83</td>\n",
       "      <td>0.00435</td>\n",
       "      <td>1</td>\n",
       "    </tr>\n",
       "    <tr>\n",
       "      <th>4</th>\n",
       "      <td>2015-02-04 17:54:00</td>\n",
       "      <td>23.150</td>\n",
       "      <td>27.200000</td>\n",
       "      <td>256.375</td>\n",
       "      <td>638.83</td>\n",
       "      <td>0.00435</td>\n",
       "      <td>1</td>\n",
       "    </tr>\n",
       "    <tr>\n",
       "      <th>5</th>\n",
       "      <td>2015-02-04 17:55:00</td>\n",
       "      <td>23.100</td>\n",
       "      <td>27.200000</td>\n",
       "      <td>256.375</td>\n",
       "      <td>638.83</td>\n",
       "      <td>0.00435</td>\n",
       "      <td>1</td>\n",
       "    </tr>\n",
       "    <tr>\n",
       "      <th>6</th>\n",
       "      <td>2015-02-04 17:55:59</td>\n",
       "      <td>23.100</td>\n",
       "      <td>27.200000</td>\n",
       "      <td>256.375</td>\n",
       "      <td>638.83</td>\n",
       "      <td>0.00435</td>\n",
       "      <td>1</td>\n",
       "    </tr>\n",
       "    <tr>\n",
       "      <th>7</th>\n",
       "      <td>2015-02-04 17:57:00</td>\n",
       "      <td>23.100</td>\n",
       "      <td>27.200000</td>\n",
       "      <td>256.375</td>\n",
       "      <td>638.83</td>\n",
       "      <td>0.00435</td>\n",
       "      <td>1</td>\n",
       "    </tr>\n",
       "    <tr>\n",
       "      <th>8</th>\n",
       "      <td>2015-02-04 17:57:59</td>\n",
       "      <td>23.100</td>\n",
       "      <td>27.200000</td>\n",
       "      <td>256.375</td>\n",
       "      <td>638.83</td>\n",
       "      <td>0.00435</td>\n",
       "      <td>1</td>\n",
       "    </tr>\n",
       "    <tr>\n",
       "      <th>9</th>\n",
       "      <td>2015-02-04 17:58:59</td>\n",
       "      <td>23.100</td>\n",
       "      <td>27.200000</td>\n",
       "      <td>256.375</td>\n",
       "      <td>638.83</td>\n",
       "      <td>0.00435</td>\n",
       "      <td>1</td>\n",
       "    </tr>\n",
       "    <tr>\n",
       "      <th>10</th>\n",
       "      <td>2015-02-04 18:00:00</td>\n",
       "      <td>23.075</td>\n",
       "      <td>27.175000</td>\n",
       "      <td>256.375</td>\n",
       "      <td>638.83</td>\n",
       "      <td>0.00435</td>\n",
       "      <td>1</td>\n",
       "    </tr>\n",
       "    <tr>\n",
       "      <th>11</th>\n",
       "      <td>2015-02-04 18:01:00</td>\n",
       "      <td>23.075</td>\n",
       "      <td>27.150000</td>\n",
       "      <td>256.375</td>\n",
       "      <td>638.83</td>\n",
       "      <td>0.00435</td>\n",
       "      <td>1</td>\n",
       "    </tr>\n",
       "    <tr>\n",
       "      <th>12</th>\n",
       "      <td>2015-02-04 18:02:00</td>\n",
       "      <td>23.100</td>\n",
       "      <td>27.100000</td>\n",
       "      <td>256.375</td>\n",
       "      <td>638.83</td>\n",
       "      <td>0.00435</td>\n",
       "      <td>1</td>\n",
       "    </tr>\n",
       "    <tr>\n",
       "      <th>13</th>\n",
       "      <td>2015-02-04 18:03:00</td>\n",
       "      <td>23.100</td>\n",
       "      <td>27.166667</td>\n",
       "      <td>256.375</td>\n",
       "      <td>638.83</td>\n",
       "      <td>0.00435</td>\n",
       "      <td>1</td>\n",
       "    </tr>\n",
       "    <tr>\n",
       "      <th>14</th>\n",
       "      <td>2015-02-04 18:04:00</td>\n",
       "      <td>23.050</td>\n",
       "      <td>27.150000</td>\n",
       "      <td>256.375</td>\n",
       "      <td>638.83</td>\n",
       "      <td>0.00435</td>\n",
       "      <td>1</td>\n",
       "    </tr>\n",
       "    <tr>\n",
       "      <th>15</th>\n",
       "      <td>2015-02-04 18:04:59</td>\n",
       "      <td>23.000</td>\n",
       "      <td>27.125000</td>\n",
       "      <td>256.375</td>\n",
       "      <td>638.83</td>\n",
       "      <td>0.00435</td>\n",
       "      <td>1</td>\n",
       "    </tr>\n",
       "    <tr>\n",
       "      <th>16</th>\n",
       "      <td>2015-02-04 18:06:00</td>\n",
       "      <td>23.000</td>\n",
       "      <td>27.125000</td>\n",
       "      <td>256.375</td>\n",
       "      <td>638.83</td>\n",
       "      <td>0.00435</td>\n",
       "      <td>1</td>\n",
       "    </tr>\n",
       "    <tr>\n",
       "      <th>17</th>\n",
       "      <td>2015-02-04 18:07:00</td>\n",
       "      <td>23.000</td>\n",
       "      <td>27.200000</td>\n",
       "      <td>0.000</td>\n",
       "      <td>638.83</td>\n",
       "      <td>0.00435</td>\n",
       "      <td>0</td>\n",
       "    </tr>\n",
       "    <tr>\n",
       "      <th>18</th>\n",
       "      <td>2015-02-04 18:08:00</td>\n",
       "      <td>22.945</td>\n",
       "      <td>27.290000</td>\n",
       "      <td>0.000</td>\n",
       "      <td>638.83</td>\n",
       "      <td>0.00435</td>\n",
       "      <td>0</td>\n",
       "    </tr>\n",
       "    <tr>\n",
       "      <th>19</th>\n",
       "      <td>2015-02-04 18:08:59</td>\n",
       "      <td>22.945</td>\n",
       "      <td>27.390000</td>\n",
       "      <td>0.000</td>\n",
       "      <td>638.83</td>\n",
       "      <td>0.00435</td>\n",
       "      <td>0</td>\n",
       "    </tr>\n",
       "    <tr>\n",
       "      <th>20</th>\n",
       "      <td>2015-02-04 18:10:00</td>\n",
       "      <td>22.890</td>\n",
       "      <td>27.390000</td>\n",
       "      <td>0.000</td>\n",
       "      <td>638.83</td>\n",
       "      <td>0.00435</td>\n",
       "      <td>0</td>\n",
       "    </tr>\n",
       "    <tr>\n",
       "      <th>21</th>\n",
       "      <td>2015-02-04 18:10:59</td>\n",
       "      <td>22.890</td>\n",
       "      <td>27.390000</td>\n",
       "      <td>0.000</td>\n",
       "      <td>638.83</td>\n",
       "      <td>0.00435</td>\n",
       "      <td>0</td>\n",
       "    </tr>\n",
       "    <tr>\n",
       "      <th>22</th>\n",
       "      <td>2015-02-04 18:11:59</td>\n",
       "      <td>22.890</td>\n",
       "      <td>27.390000</td>\n",
       "      <td>0.000</td>\n",
       "      <td>638.83</td>\n",
       "      <td>0.00435</td>\n",
       "      <td>0</td>\n",
       "    </tr>\n",
       "    <tr>\n",
       "      <th>23</th>\n",
       "      <td>2015-02-04 18:13:00</td>\n",
       "      <td>22.890</td>\n",
       "      <td>27.445000</td>\n",
       "      <td>0.000</td>\n",
       "      <td>638.83</td>\n",
       "      <td>0.00435</td>\n",
       "      <td>0</td>\n",
       "    </tr>\n",
       "    <tr>\n",
       "      <th>24</th>\n",
       "      <td>2015-02-04 18:14:00</td>\n",
       "      <td>22.890</td>\n",
       "      <td>27.500000</td>\n",
       "      <td>0.000</td>\n",
       "      <td>638.83</td>\n",
       "      <td>0.00435</td>\n",
       "      <td>0</td>\n",
       "    </tr>\n",
       "    <tr>\n",
       "      <th>25</th>\n",
       "      <td>2015-02-04 18:15:00</td>\n",
       "      <td>22.890</td>\n",
       "      <td>27.500000</td>\n",
       "      <td>0.000</td>\n",
       "      <td>638.83</td>\n",
       "      <td>0.00435</td>\n",
       "      <td>0</td>\n",
       "    </tr>\n",
       "    <tr>\n",
       "      <th>26</th>\n",
       "      <td>2015-02-04 18:16:00</td>\n",
       "      <td>22.790</td>\n",
       "      <td>27.445000</td>\n",
       "      <td>0.000</td>\n",
       "      <td>638.83</td>\n",
       "      <td>0.00435</td>\n",
       "      <td>0</td>\n",
       "    </tr>\n",
       "    <tr>\n",
       "      <th>27</th>\n",
       "      <td>2015-02-04 18:16:59</td>\n",
       "      <td>22.790</td>\n",
       "      <td>27.500000</td>\n",
       "      <td>0.000</td>\n",
       "      <td>638.83</td>\n",
       "      <td>0.00435</td>\n",
       "      <td>0</td>\n",
       "    </tr>\n",
       "    <tr>\n",
       "      <th>28</th>\n",
       "      <td>2015-02-04 18:17:59</td>\n",
       "      <td>22.790</td>\n",
       "      <td>27.500000</td>\n",
       "      <td>0.000</td>\n",
       "      <td>638.83</td>\n",
       "      <td>0.00435</td>\n",
       "      <td>0</td>\n",
       "    </tr>\n",
       "    <tr>\n",
       "      <th>29</th>\n",
       "      <td>2015-02-04 18:19:00</td>\n",
       "      <td>22.790</td>\n",
       "      <td>27.500000</td>\n",
       "      <td>0.000</td>\n",
       "      <td>638.83</td>\n",
       "      <td>0.00435</td>\n",
       "      <td>0</td>\n",
       "    </tr>\n",
       "    <tr>\n",
       "      <th>30</th>\n",
       "      <td>2015-02-04 18:20:00</td>\n",
       "      <td>22.745</td>\n",
       "      <td>27.500000</td>\n",
       "      <td>0.000</td>\n",
       "      <td>638.83</td>\n",
       "      <td>0.00435</td>\n",
       "      <td>0</td>\n",
       "    </tr>\n",
       "  </tbody>\n",
       "</table>\n",
       "</div>"
      ],
      "text/plain": [
       "                   date  Temperature   Humidity    Light     CO2  \\\n",
       "1   2015-02-04 17:51:00       23.180  27.272000  256.375  638.83   \n",
       "2   2015-02-04 17:51:59       23.150  27.267500  256.375  638.83   \n",
       "3   2015-02-04 17:53:00       23.150  27.245000  256.375  638.83   \n",
       "4   2015-02-04 17:54:00       23.150  27.200000  256.375  638.83   \n",
       "5   2015-02-04 17:55:00       23.100  27.200000  256.375  638.83   \n",
       "6   2015-02-04 17:55:59       23.100  27.200000  256.375  638.83   \n",
       "7   2015-02-04 17:57:00       23.100  27.200000  256.375  638.83   \n",
       "8   2015-02-04 17:57:59       23.100  27.200000  256.375  638.83   \n",
       "9   2015-02-04 17:58:59       23.100  27.200000  256.375  638.83   \n",
       "10  2015-02-04 18:00:00       23.075  27.175000  256.375  638.83   \n",
       "11  2015-02-04 18:01:00       23.075  27.150000  256.375  638.83   \n",
       "12  2015-02-04 18:02:00       23.100  27.100000  256.375  638.83   \n",
       "13  2015-02-04 18:03:00       23.100  27.166667  256.375  638.83   \n",
       "14  2015-02-04 18:04:00       23.050  27.150000  256.375  638.83   \n",
       "15  2015-02-04 18:04:59       23.000  27.125000  256.375  638.83   \n",
       "16  2015-02-04 18:06:00       23.000  27.125000  256.375  638.83   \n",
       "17  2015-02-04 18:07:00       23.000  27.200000    0.000  638.83   \n",
       "18  2015-02-04 18:08:00       22.945  27.290000    0.000  638.83   \n",
       "19  2015-02-04 18:08:59       22.945  27.390000    0.000  638.83   \n",
       "20  2015-02-04 18:10:00       22.890  27.390000    0.000  638.83   \n",
       "21  2015-02-04 18:10:59       22.890  27.390000    0.000  638.83   \n",
       "22  2015-02-04 18:11:59       22.890  27.390000    0.000  638.83   \n",
       "23  2015-02-04 18:13:00       22.890  27.445000    0.000  638.83   \n",
       "24  2015-02-04 18:14:00       22.890  27.500000    0.000  638.83   \n",
       "25  2015-02-04 18:15:00       22.890  27.500000    0.000  638.83   \n",
       "26  2015-02-04 18:16:00       22.790  27.445000    0.000  638.83   \n",
       "27  2015-02-04 18:16:59       22.790  27.500000    0.000  638.83   \n",
       "28  2015-02-04 18:17:59       22.790  27.500000    0.000  638.83   \n",
       "29  2015-02-04 18:19:00       22.790  27.500000    0.000  638.83   \n",
       "30  2015-02-04 18:20:00       22.745  27.500000    0.000  638.83   \n",
       "\n",
       "    HumidityRatio  Occupancy  \n",
       "1         0.00435          1  \n",
       "2         0.00435          1  \n",
       "3         0.00435          1  \n",
       "4         0.00435          1  \n",
       "5         0.00435          1  \n",
       "6         0.00435          1  \n",
       "7         0.00435          1  \n",
       "8         0.00435          1  \n",
       "9         0.00435          1  \n",
       "10        0.00435          1  \n",
       "11        0.00435          1  \n",
       "12        0.00435          1  \n",
       "13        0.00435          1  \n",
       "14        0.00435          1  \n",
       "15        0.00435          1  \n",
       "16        0.00435          1  \n",
       "17        0.00435          0  \n",
       "18        0.00435          0  \n",
       "19        0.00435          0  \n",
       "20        0.00435          0  \n",
       "21        0.00435          0  \n",
       "22        0.00435          0  \n",
       "23        0.00435          0  \n",
       "24        0.00435          0  \n",
       "25        0.00435          0  \n",
       "26        0.00435          0  \n",
       "27        0.00435          0  \n",
       "28        0.00435          0  \n",
       "29        0.00435          0  \n",
       "30        0.00435          0  "
      ]
     },
     "execution_count": 19,
     "metadata": {},
     "output_type": "execute_result"
    }
   ],
   "source": [
    "df[0:30]"
   ]
  },
  {
   "cell_type": "code",
   "execution_count": 96,
   "metadata": {},
   "outputs": [
    {
     "data": {
      "text/html": [
       "<div>\n",
       "<style scoped>\n",
       "    .dataframe tbody tr th:only-of-type {\n",
       "        vertical-align: middle;\n",
       "    }\n",
       "\n",
       "    .dataframe tbody tr th {\n",
       "        vertical-align: top;\n",
       "    }\n",
       "\n",
       "    .dataframe thead th {\n",
       "        text-align: right;\n",
       "    }\n",
       "</style>\n",
       "<table border=\"1\" class=\"dataframe\">\n",
       "  <thead>\n",
       "    <tr style=\"text-align: right;\">\n",
       "      <th></th>\n",
       "      <th>date</th>\n",
       "      <th>Temperature</th>\n",
       "      <th>Humidity</th>\n",
       "      <th>Light</th>\n",
       "      <th>CO2</th>\n",
       "      <th>HumidityRatio</th>\n",
       "      <th>Occupancy</th>\n",
       "    </tr>\n",
       "  </thead>\n",
       "  <tbody>\n",
       "    <tr>\n",
       "      <th>1</th>\n",
       "      <td>2015-02-04 17:51:00</td>\n",
       "      <td>23.18</td>\n",
       "      <td>27.2720</td>\n",
       "      <td>256.375</td>\n",
       "      <td>638.83</td>\n",
       "      <td>0.00435</td>\n",
       "      <td>1</td>\n",
       "    </tr>\n",
       "    <tr>\n",
       "      <th>2</th>\n",
       "      <td>2015-02-04 17:51:59</td>\n",
       "      <td>23.15</td>\n",
       "      <td>27.2675</td>\n",
       "      <td>256.375</td>\n",
       "      <td>638.83</td>\n",
       "      <td>0.00435</td>\n",
       "      <td>1</td>\n",
       "    </tr>\n",
       "    <tr>\n",
       "      <th>3</th>\n",
       "      <td>2015-02-04 17:53:00</td>\n",
       "      <td>23.15</td>\n",
       "      <td>27.2450</td>\n",
       "      <td>256.375</td>\n",
       "      <td>638.83</td>\n",
       "      <td>0.00435</td>\n",
       "      <td>1</td>\n",
       "    </tr>\n",
       "    <tr>\n",
       "      <th>4</th>\n",
       "      <td>2015-02-04 17:54:00</td>\n",
       "      <td>23.15</td>\n",
       "      <td>27.2000</td>\n",
       "      <td>256.375</td>\n",
       "      <td>638.83</td>\n",
       "      <td>0.00435</td>\n",
       "      <td>1</td>\n",
       "    </tr>\n",
       "    <tr>\n",
       "      <th>5</th>\n",
       "      <td>2015-02-04 17:55:00</td>\n",
       "      <td>23.10</td>\n",
       "      <td>27.2000</td>\n",
       "      <td>256.375</td>\n",
       "      <td>638.83</td>\n",
       "      <td>0.00435</td>\n",
       "      <td>1</td>\n",
       "    </tr>\n",
       "    <tr>\n",
       "      <th>...</th>\n",
       "      <td>...</td>\n",
       "      <td>...</td>\n",
       "      <td>...</td>\n",
       "      <td>...</td>\n",
       "      <td>...</td>\n",
       "      <td>...</td>\n",
       "      <td>...</td>\n",
       "    </tr>\n",
       "    <tr>\n",
       "      <th>8139</th>\n",
       "      <td>2015-02-10 09:29:00</td>\n",
       "      <td>21.05</td>\n",
       "      <td>36.0975</td>\n",
       "      <td>256.375</td>\n",
       "      <td>638.83</td>\n",
       "      <td>0.00435</td>\n",
       "      <td>1</td>\n",
       "    </tr>\n",
       "    <tr>\n",
       "      <th>8140</th>\n",
       "      <td>2015-02-10 09:29:59</td>\n",
       "      <td>21.05</td>\n",
       "      <td>35.9950</td>\n",
       "      <td>256.375</td>\n",
       "      <td>638.83</td>\n",
       "      <td>0.00435</td>\n",
       "      <td>1</td>\n",
       "    </tr>\n",
       "    <tr>\n",
       "      <th>8141</th>\n",
       "      <td>2015-02-10 09:30:59</td>\n",
       "      <td>21.10</td>\n",
       "      <td>36.0950</td>\n",
       "      <td>256.375</td>\n",
       "      <td>638.83</td>\n",
       "      <td>0.00435</td>\n",
       "      <td>1</td>\n",
       "    </tr>\n",
       "    <tr>\n",
       "      <th>8142</th>\n",
       "      <td>2015-02-10 09:32:00</td>\n",
       "      <td>21.10</td>\n",
       "      <td>36.2600</td>\n",
       "      <td>256.375</td>\n",
       "      <td>638.83</td>\n",
       "      <td>0.00435</td>\n",
       "      <td>1</td>\n",
       "    </tr>\n",
       "    <tr>\n",
       "      <th>8143</th>\n",
       "      <td>2015-02-10 09:33:00</td>\n",
       "      <td>21.10</td>\n",
       "      <td>36.2000</td>\n",
       "      <td>256.375</td>\n",
       "      <td>638.83</td>\n",
       "      <td>0.00435</td>\n",
       "      <td>1</td>\n",
       "    </tr>\n",
       "  </tbody>\n",
       "</table>\n",
       "<p>8143 rows × 7 columns</p>\n",
       "</div>"
      ],
      "text/plain": [
       "                     date  Temperature  Humidity    Light     CO2  \\\n",
       "1     2015-02-04 17:51:00        23.18   27.2720  256.375  638.83   \n",
       "2     2015-02-04 17:51:59        23.15   27.2675  256.375  638.83   \n",
       "3     2015-02-04 17:53:00        23.15   27.2450  256.375  638.83   \n",
       "4     2015-02-04 17:54:00        23.15   27.2000  256.375  638.83   \n",
       "5     2015-02-04 17:55:00        23.10   27.2000  256.375  638.83   \n",
       "...                   ...          ...       ...      ...     ...   \n",
       "8139  2015-02-10 09:29:00        21.05   36.0975  256.375  638.83   \n",
       "8140  2015-02-10 09:29:59        21.05   35.9950  256.375  638.83   \n",
       "8141  2015-02-10 09:30:59        21.10   36.0950  256.375  638.83   \n",
       "8142  2015-02-10 09:32:00        21.10   36.2600  256.375  638.83   \n",
       "8143  2015-02-10 09:33:00        21.10   36.2000  256.375  638.83   \n",
       "\n",
       "      HumidityRatio  Occupancy  \n",
       "1           0.00435          1  \n",
       "2           0.00435          1  \n",
       "3           0.00435          1  \n",
       "4           0.00435          1  \n",
       "5           0.00435          1  \n",
       "...             ...        ...  \n",
       "8139        0.00435          1  \n",
       "8140        0.00435          1  \n",
       "8141        0.00435          1  \n",
       "8142        0.00435          1  \n",
       "8143        0.00435          1  \n",
       "\n",
       "[8143 rows x 7 columns]"
      ]
     },
     "execution_count": 96,
     "metadata": {},
     "output_type": "execute_result"
    }
   ],
   "source": [
    "df"
   ]
  },
  {
   "cell_type": "code",
   "execution_count": 20,
   "metadata": {},
   "outputs": [],
   "source": [
    "#Doing the Naive bayes based classification"
   ]
  },
  {
   "cell_type": "code",
   "execution_count": 129,
   "metadata": {},
   "outputs": [
    {
     "data": {
      "text/html": [
       "<div>\n",
       "<style scoped>\n",
       "    .dataframe tbody tr th:only-of-type {\n",
       "        vertical-align: middle;\n",
       "    }\n",
       "\n",
       "    .dataframe tbody tr th {\n",
       "        vertical-align: top;\n",
       "    }\n",
       "\n",
       "    .dataframe thead th {\n",
       "        text-align: right;\n",
       "    }\n",
       "</style>\n",
       "<table border=\"1\" class=\"dataframe\">\n",
       "  <thead>\n",
       "    <tr style=\"text-align: right;\">\n",
       "      <th></th>\n",
       "      <th>Temperature</th>\n",
       "      <th>Humidity</th>\n",
       "      <th>Light</th>\n",
       "      <th>CO2</th>\n",
       "      <th>HumidityRatio</th>\n",
       "      <th>Occupancy</th>\n",
       "    </tr>\n",
       "  </thead>\n",
       "  <tbody>\n",
       "    <tr>\n",
       "      <th>count</th>\n",
       "      <td>8143.000000</td>\n",
       "      <td>8143.000000</td>\n",
       "      <td>8143.000000</td>\n",
       "      <td>8143.000000</td>\n",
       "      <td>8143.000000</td>\n",
       "      <td>8143.000000</td>\n",
       "    </tr>\n",
       "    <tr>\n",
       "      <th>mean</th>\n",
       "      <td>20.619084</td>\n",
       "      <td>25.731507</td>\n",
       "      <td>71.864759</td>\n",
       "      <td>502.112610</td>\n",
       "      <td>0.003698</td>\n",
       "      <td>0.212330</td>\n",
       "    </tr>\n",
       "    <tr>\n",
       "      <th>std</th>\n",
       "      <td>1.016916</td>\n",
       "      <td>5.531211</td>\n",
       "      <td>110.790013</td>\n",
       "      <td>85.451328</td>\n",
       "      <td>0.000599</td>\n",
       "      <td>0.408982</td>\n",
       "    </tr>\n",
       "    <tr>\n",
       "      <th>min</th>\n",
       "      <td>19.000000</td>\n",
       "      <td>16.745000</td>\n",
       "      <td>0.000000</td>\n",
       "      <td>412.750000</td>\n",
       "      <td>0.002674</td>\n",
       "      <td>0.000000</td>\n",
       "    </tr>\n",
       "    <tr>\n",
       "      <th>25%</th>\n",
       "      <td>19.700000</td>\n",
       "      <td>20.200000</td>\n",
       "      <td>0.000000</td>\n",
       "      <td>439.000000</td>\n",
       "      <td>0.003078</td>\n",
       "      <td>0.000000</td>\n",
       "    </tr>\n",
       "    <tr>\n",
       "      <th>50%</th>\n",
       "      <td>20.390000</td>\n",
       "      <td>26.222500</td>\n",
       "      <td>0.000000</td>\n",
       "      <td>453.500000</td>\n",
       "      <td>0.003801</td>\n",
       "      <td>0.000000</td>\n",
       "    </tr>\n",
       "    <tr>\n",
       "      <th>75%</th>\n",
       "      <td>21.390000</td>\n",
       "      <td>30.533333</td>\n",
       "      <td>256.187500</td>\n",
       "      <td>638.748333</td>\n",
       "      <td>0.004350</td>\n",
       "      <td>0.000000</td>\n",
       "    </tr>\n",
       "    <tr>\n",
       "      <th>max</th>\n",
       "      <td>23.180000</td>\n",
       "      <td>39.117500</td>\n",
       "      <td>256.375000</td>\n",
       "      <td>638.830000</td>\n",
       "      <td>0.004352</td>\n",
       "      <td>1.000000</td>\n",
       "    </tr>\n",
       "  </tbody>\n",
       "</table>\n",
       "</div>"
      ],
      "text/plain": [
       "       Temperature     Humidity        Light          CO2  HumidityRatio  \\\n",
       "count  8143.000000  8143.000000  8143.000000  8143.000000    8143.000000   \n",
       "mean     20.619084    25.731507    71.864759   502.112610       0.003698   \n",
       "std       1.016916     5.531211   110.790013    85.451328       0.000599   \n",
       "min      19.000000    16.745000     0.000000   412.750000       0.002674   \n",
       "25%      19.700000    20.200000     0.000000   439.000000       0.003078   \n",
       "50%      20.390000    26.222500     0.000000   453.500000       0.003801   \n",
       "75%      21.390000    30.533333   256.187500   638.748333       0.004350   \n",
       "max      23.180000    39.117500   256.375000   638.830000       0.004352   \n",
       "\n",
       "         Occupancy  \n",
       "count  8143.000000  \n",
       "mean      0.212330  \n",
       "std       0.408982  \n",
       "min       0.000000  \n",
       "25%       0.000000  \n",
       "50%       0.000000  \n",
       "75%       0.000000  \n",
       "max       1.000000  "
      ]
     },
     "execution_count": 129,
     "metadata": {},
     "output_type": "execute_result"
    }
   ],
   "source": [
    "df.describe()"
   ]
  },
  {
   "cell_type": "code",
   "execution_count": 350,
   "metadata": {},
   "outputs": [],
   "source": [
    "from sklearn.naive_bayes import GaussianNB\n",
    "model=GaussianNB()"
   ]
  },
  {
   "cell_type": "code",
   "execution_count": 351,
   "metadata": {},
   "outputs": [],
   "source": [
    "target=df.Occupancy\n",
    "inputs=df.drop(['Occupancy','date'],axis='columns')"
   ]
  },
  {
   "cell_type": "code",
   "execution_count": 352,
   "metadata": {},
   "outputs": [
    {
     "data": {
      "text/plain": [
       "GaussianNB()"
      ]
     },
     "execution_count": 352,
     "metadata": {},
     "output_type": "execute_result"
    }
   ],
   "source": [
    "model.fit(inputs,target)"
   ]
  },
  {
   "cell_type": "code",
   "execution_count": 353,
   "metadata": {},
   "outputs": [
    {
     "data": {
      "text/plain": [
       "0.9847721969790003"
      ]
     },
     "execution_count": 353,
     "metadata": {},
     "output_type": "execute_result"
    }
   ],
   "source": [
    "model.score(inputs,target)"
   ]
  },
  {
   "cell_type": "code",
   "execution_count": 354,
   "metadata": {},
   "outputs": [],
   "source": [
    "test_df=pd.read_csv(\"F:/college/college/sem7/MLDA/Project/occupancy_data/datatest.txt\")"
   ]
  },
  {
   "cell_type": "code",
   "execution_count": 355,
   "metadata": {},
   "outputs": [],
   "source": [
    "target2=test_df.Occupancy\n",
    "inputs2=test_df.drop(['Occupancy','date'],axis='columns')"
   ]
  },
  {
   "cell_type": "code",
   "execution_count": 356,
   "metadata": {},
   "outputs": [
    {
     "data": {
      "text/plain": [
       "0.6352720450281426"
      ]
     },
     "execution_count": 356,
     "metadata": {},
     "output_type": "execute_result"
    }
   ],
   "source": [
    "model.score(inputs2,target2)"
   ]
  },
  {
   "cell_type": "code",
   "execution_count": 357,
   "metadata": {},
   "outputs": [],
   "source": [
    "test_df2=pd.read_csv(\"F:/college/college/sem7/MLDA/Project/occupancy_data/datatest.txt\")"
   ]
  },
  {
   "cell_type": "code",
   "execution_count": 358,
   "metadata": {},
   "outputs": [],
   "source": [
    "target3=test_df2.Occupancy\n",
    "inputs3=test_df2.drop(['Occupancy','date'],axis='columns')"
   ]
  },
  {
   "cell_type": "code",
   "execution_count": 359,
   "metadata": {},
   "outputs": [
    {
     "data": {
      "text/plain": [
       "0.6352720450281426"
      ]
     },
     "execution_count": 359,
     "metadata": {},
     "output_type": "execute_result"
    }
   ],
   "source": [
    "model.score(inputs3,target3)"
   ]
  },
  {
   "cell_type": "code",
   "execution_count": null,
   "metadata": {},
   "outputs": [],
   "source": []
  },
  {
   "cell_type": "code",
   "execution_count": null,
   "metadata": {},
   "outputs": [],
   "source": []
  },
  {
   "cell_type": "code",
   "execution_count": 360,
   "metadata": {},
   "outputs": [],
   "source": [
    "#Doing the Dimensionality Reduction\n",
    "#here we have 5 dimensions in data we can try to reduce it to 1 using the PCA"
   ]
  },
  {
   "cell_type": "code",
   "execution_count": 361,
   "metadata": {},
   "outputs": [],
   "source": [
    "from sklearn.linear_model import LogisticRegression"
   ]
  },
  {
   "cell_type": "code",
   "execution_count": 362,
   "metadata": {},
   "outputs": [],
   "source": [
    "model_logistic=LogisticRegression()"
   ]
  },
  {
   "cell_type": "code",
   "execution_count": 363,
   "metadata": {},
   "outputs": [
    {
     "data": {
      "text/plain": [
       "LogisticRegression()"
      ]
     },
     "execution_count": 363,
     "metadata": {},
     "output_type": "execute_result"
    }
   ],
   "source": [
    "model_logistic.fit(inputs,target)"
   ]
  },
  {
   "cell_type": "code",
   "execution_count": 364,
   "metadata": {},
   "outputs": [
    {
     "name": "stdout",
     "output_type": "stream",
     "text": [
      "0.9602251407129456\n"
     ]
    },
    {
     "data": {
      "text/plain": [
       "0.9602251407129456"
      ]
     },
     "execution_count": 364,
     "metadata": {},
     "output_type": "execute_result"
    }
   ],
   "source": [
    "print(model_logistic.score(inputs2,target2))\n",
    "model_logistic.score(inputs3,target3)"
   ]
  },
  {
   "cell_type": "code",
   "execution_count": null,
   "metadata": {},
   "outputs": [],
   "source": []
  },
  {
   "cell_type": "code",
   "execution_count": null,
   "metadata": {},
   "outputs": [],
   "source": []
  },
  {
   "cell_type": "code",
   "execution_count": 365,
   "metadata": {},
   "outputs": [],
   "source": [
    "from sklearn.tree import DecisionTreeClassifier"
   ]
  },
  {
   "cell_type": "code",
   "execution_count": 366,
   "metadata": {},
   "outputs": [
    {
     "data": {
      "text/plain": [
       "DecisionTreeClassifier()"
      ]
     },
     "execution_count": 366,
     "metadata": {},
     "output_type": "execute_result"
    }
   ],
   "source": [
    "model_DTrees=DecisionTreeClassifier()\n",
    "model_DTrees.fit(inputs,target)"
   ]
  },
  {
   "cell_type": "code",
   "execution_count": 367,
   "metadata": {},
   "outputs": [
    {
     "name": "stdout",
     "output_type": "stream",
     "text": [
      "0.9463414634146341\n"
     ]
    },
    {
     "data": {
      "text/plain": [
       "0.9463414634146341"
      ]
     },
     "execution_count": 367,
     "metadata": {},
     "output_type": "execute_result"
    }
   ],
   "source": [
    "\n",
    "print(model_DTrees.score(inputs2,target2))\n",
    "model_DTrees.score(inputs3,target3)\n"
   ]
  },
  {
   "cell_type": "code",
   "execution_count": null,
   "metadata": {},
   "outputs": [],
   "source": []
  },
  {
   "cell_type": "code",
   "execution_count": null,
   "metadata": {},
   "outputs": [],
   "source": []
  },
  {
   "cell_type": "code",
   "execution_count": 368,
   "metadata": {},
   "outputs": [],
   "source": [
    "from sklearn.ensemble import RandomForestClassifier"
   ]
  },
  {
   "cell_type": "code",
   "execution_count": 369,
   "metadata": {},
   "outputs": [],
   "source": [
    "model_RForest=RandomForestClassifier()"
   ]
  },
  {
   "cell_type": "code",
   "execution_count": 370,
   "metadata": {},
   "outputs": [
    {
     "data": {
      "text/plain": [
       "RandomForestClassifier()"
      ]
     },
     "execution_count": 370,
     "metadata": {},
     "output_type": "execute_result"
    }
   ],
   "source": [
    "model_RForest.fit(inputs,target)"
   ]
  },
  {
   "cell_type": "code",
   "execution_count": 371,
   "metadata": {},
   "outputs": [
    {
     "data": {
      "text/plain": [
       "0.9564727954971858"
      ]
     },
     "execution_count": 371,
     "metadata": {},
     "output_type": "execute_result"
    }
   ],
   "source": [
    "model_RForest.score(inputs2,target2)"
   ]
  },
  {
   "cell_type": "code",
   "execution_count": null,
   "metadata": {},
   "outputs": [],
   "source": []
  },
  {
   "cell_type": "code",
   "execution_count": null,
   "metadata": {},
   "outputs": [],
   "source": []
  },
  {
   "cell_type": "code",
   "execution_count": 372,
   "metadata": {},
   "outputs": [],
   "source": [
    "from sklearn.neighbors import KNeighborsClassifier"
   ]
  },
  {
   "cell_type": "code",
   "execution_count": 373,
   "metadata": {},
   "outputs": [],
   "source": [
    "model_KNN=KNeighborsClassifier()"
   ]
  },
  {
   "cell_type": "code",
   "execution_count": 374,
   "metadata": {},
   "outputs": [
    {
     "data": {
      "text/plain": [
       "KNeighborsClassifier()"
      ]
     },
     "execution_count": 374,
     "metadata": {},
     "output_type": "execute_result"
    }
   ],
   "source": [
    "model_KNN.fit(inputs,target)"
   ]
  },
  {
   "cell_type": "code",
   "execution_count": 375,
   "metadata": {},
   "outputs": [
    {
     "data": {
      "text/plain": [
       "0.9395872420262664"
      ]
     },
     "execution_count": 375,
     "metadata": {},
     "output_type": "execute_result"
    }
   ],
   "source": [
    "model_KNN.score(inputs2,target2)"
   ]
  },
  {
   "cell_type": "code",
   "execution_count": 396,
   "metadata": {},
   "outputs": [
    {
     "data": {
      "text/html": [
       "<div>\n",
       "<style scoped>\n",
       "    .dataframe tbody tr th:only-of-type {\n",
       "        vertical-align: middle;\n",
       "    }\n",
       "\n",
       "    .dataframe tbody tr th {\n",
       "        vertical-align: top;\n",
       "    }\n",
       "\n",
       "    .dataframe thead th {\n",
       "        text-align: right;\n",
       "    }\n",
       "</style>\n",
       "<table border=\"1\" class=\"dataframe\">\n",
       "  <thead>\n",
       "    <tr style=\"text-align: right;\">\n",
       "      <th></th>\n",
       "      <th>Temperature</th>\n",
       "      <th>Humidity</th>\n",
       "      <th>Light</th>\n",
       "      <th>CO2</th>\n",
       "      <th>HumidityRatio</th>\n",
       "    </tr>\n",
       "  </thead>\n",
       "  <tbody>\n",
       "    <tr>\n",
       "      <th>count</th>\n",
       "      <td>8143.000000</td>\n",
       "      <td>8143.000000</td>\n",
       "      <td>8143.000000</td>\n",
       "      <td>8143.000000</td>\n",
       "      <td>8143.000000</td>\n",
       "    </tr>\n",
       "    <tr>\n",
       "      <th>mean</th>\n",
       "      <td>20.619084</td>\n",
       "      <td>25.731507</td>\n",
       "      <td>71.864759</td>\n",
       "      <td>502.112610</td>\n",
       "      <td>0.003698</td>\n",
       "    </tr>\n",
       "    <tr>\n",
       "      <th>std</th>\n",
       "      <td>1.016916</td>\n",
       "      <td>5.531211</td>\n",
       "      <td>110.790013</td>\n",
       "      <td>85.451328</td>\n",
       "      <td>0.000599</td>\n",
       "    </tr>\n",
       "    <tr>\n",
       "      <th>min</th>\n",
       "      <td>19.000000</td>\n",
       "      <td>16.745000</td>\n",
       "      <td>0.000000</td>\n",
       "      <td>412.750000</td>\n",
       "      <td>0.002674</td>\n",
       "    </tr>\n",
       "    <tr>\n",
       "      <th>25%</th>\n",
       "      <td>19.700000</td>\n",
       "      <td>20.200000</td>\n",
       "      <td>0.000000</td>\n",
       "      <td>439.000000</td>\n",
       "      <td>0.003078</td>\n",
       "    </tr>\n",
       "    <tr>\n",
       "      <th>50%</th>\n",
       "      <td>20.390000</td>\n",
       "      <td>26.222500</td>\n",
       "      <td>0.000000</td>\n",
       "      <td>453.500000</td>\n",
       "      <td>0.003801</td>\n",
       "    </tr>\n",
       "    <tr>\n",
       "      <th>75%</th>\n",
       "      <td>21.390000</td>\n",
       "      <td>30.533333</td>\n",
       "      <td>256.187500</td>\n",
       "      <td>638.748333</td>\n",
       "      <td>0.004350</td>\n",
       "    </tr>\n",
       "    <tr>\n",
       "      <th>max</th>\n",
       "      <td>23.180000</td>\n",
       "      <td>39.117500</td>\n",
       "      <td>256.375000</td>\n",
       "      <td>638.830000</td>\n",
       "      <td>0.004352</td>\n",
       "    </tr>\n",
       "  </tbody>\n",
       "</table>\n",
       "</div>"
      ],
      "text/plain": [
       "       Temperature     Humidity        Light          CO2  HumidityRatio\n",
       "count  8143.000000  8143.000000  8143.000000  8143.000000    8143.000000\n",
       "mean     20.619084    25.731507    71.864759   502.112610       0.003698\n",
       "std       1.016916     5.531211   110.790013    85.451328       0.000599\n",
       "min      19.000000    16.745000     0.000000   412.750000       0.002674\n",
       "25%      19.700000    20.200000     0.000000   439.000000       0.003078\n",
       "50%      20.390000    26.222500     0.000000   453.500000       0.003801\n",
       "75%      21.390000    30.533333   256.187500   638.748333       0.004350\n",
       "max      23.180000    39.117500   256.375000   638.830000       0.004352"
      ]
     },
     "execution_count": 396,
     "metadata": {},
     "output_type": "execute_result"
    }
   ],
   "source": [
    "\n",
    "inputs.describe()\n",
    "\n"
   ]
  },
  {
   "cell_type": "code",
   "execution_count": null,
   "metadata": {},
   "outputs": [],
   "source": []
  },
  {
   "cell_type": "code",
   "execution_count": 376,
   "metadata": {},
   "outputs": [],
   "source": [
    "from sklearn.decomposition import PCA"
   ]
  },
  {
   "cell_type": "code",
   "execution_count": 434,
   "metadata": {},
   "outputs": [],
   "source": [
    "pca=PCA(n_components=1)"
   ]
  },
  {
   "cell_type": "code",
   "execution_count": 435,
   "metadata": {},
   "outputs": [],
   "source": [
    "j=pca.fit(inputs)"
   ]
  },
  {
   "cell_type": "code",
   "execution_count": 436,
   "metadata": {},
   "outputs": [
    {
     "data": {
      "text/plain": [
       "PCA(n_components=1)"
      ]
     },
     "execution_count": 436,
     "metadata": {},
     "output_type": "execute_result"
    }
   ],
   "source": [
    "j"
   ]
  },
  {
   "cell_type": "code",
   "execution_count": 437,
   "metadata": {},
   "outputs": [],
   "source": [
    "x_pca=pca.transform(inputs)"
   ]
  },
  {
   "cell_type": "code",
   "execution_count": 438,
   "metadata": {},
   "outputs": [
    {
     "data": {
      "text/plain": [
       "array([[229.51353285],\n",
       "       [229.51334537],\n",
       "       [229.51325162],\n",
       "       ...,\n",
       "       [229.53859613],\n",
       "       [229.53928362],\n",
       "       [229.53903363]])"
      ]
     },
     "execution_count": 438,
     "metadata": {},
     "output_type": "execute_result"
    }
   ],
   "source": [
    "x_pca"
   ]
  },
  {
   "cell_type": "code",
   "execution_count": 439,
   "metadata": {},
   "outputs": [
    {
     "data": {
      "text/plain": [
       "KNeighborsClassifier()"
      ]
     },
     "execution_count": 439,
     "metadata": {},
     "output_type": "execute_result"
    }
   ],
   "source": [
    "model_KNN.fit(x_pca,target)"
   ]
  },
  {
   "cell_type": "code",
   "execution_count": 440,
   "metadata": {},
   "outputs": [],
   "source": [
    "pca.fit(inputs2)\n",
    "test_pca=pca.transform(inputs2)"
   ]
  },
  {
   "cell_type": "code",
   "execution_count": 441,
   "metadata": {},
   "outputs": [
    {
     "data": {
      "text/plain": [
       "0.923827392120075"
      ]
     },
     "execution_count": 441,
     "metadata": {},
     "output_type": "execute_result"
    }
   ],
   "source": [
    "model_KNN.score(test_pca,target2)"
   ]
  },
  {
   "cell_type": "code",
   "execution_count": 442,
   "metadata": {},
   "outputs": [
    {
     "data": {
      "text/plain": [
       "0.924202626641651"
      ]
     },
     "execution_count": 442,
     "metadata": {},
     "output_type": "execute_result"
    }
   ],
   "source": [
    "model_DTrees.fit(x_pca,target)\n",
    "model_DTrees.score(test_pca,target2)"
   ]
  },
  {
   "cell_type": "code",
   "execution_count": 443,
   "metadata": {},
   "outputs": [
    {
     "data": {
      "text/plain": [
       "0.9204502814258911"
      ]
     },
     "execution_count": 443,
     "metadata": {},
     "output_type": "execute_result"
    }
   ],
   "source": [
    "model_logistic.fit(x_pca,target)\n",
    "model_logistic.score(test_pca,target2)"
   ]
  },
  {
   "cell_type": "code",
   "execution_count": 444,
   "metadata": {},
   "outputs": [
    {
     "data": {
      "text/plain": [
       "0.924202626641651"
      ]
     },
     "execution_count": 444,
     "metadata": {},
     "output_type": "execute_result"
    }
   ],
   "source": [
    "model_RForest.fit(x_pca,target)\n",
    "model_RForest.score(test_pca,target2)"
   ]
  },
  {
   "cell_type": "code",
   "execution_count": 445,
   "metadata": {},
   "outputs": [
    {
     "data": {
      "text/plain": [
       "0.6694183864915573"
      ]
     },
     "execution_count": 445,
     "metadata": {},
     "output_type": "execute_result"
    }
   ],
   "source": [
    "model.fit(x_pca,target)\n",
    "model.score(test_pca,target2)"
   ]
  },
  {
   "cell_type": "code",
   "execution_count": 446,
   "metadata": {},
   "outputs": [
    {
     "data": {
      "text/plain": [
       "<bound method GaussianNB.fit of GaussianNB()>"
      ]
     },
     "execution_count": 446,
     "metadata": {},
     "output_type": "execute_result"
    }
   ],
   "source": [
    "model.fit"
   ]
  },
  {
   "cell_type": "code",
   "execution_count": null,
   "metadata": {},
   "outputs": [],
   "source": []
  },
  {
   "cell_type": "code",
   "execution_count": null,
   "metadata": {},
   "outputs": [],
   "source": []
  },
  {
   "cell_type": "code",
   "execution_count": null,
   "metadata": {},
   "outputs": [],
   "source": []
  },
  {
   "cell_type": "code",
   "execution_count": 422,
   "metadata": {},
   "outputs": [],
   "source": [
    "\n",
    "from sklearn.preprocessing import StandardScaler\n",
    "inputs_std = StandardScaler().fit_transform(inputs)\n",
    "\n",
    "##print \"The shape of Feature Matrix is -\",X_std.shape"
   ]
  },
  {
   "cell_type": "code",
   "execution_count": 423,
   "metadata": {},
   "outputs": [
    {
     "data": {
      "text/plain": [
       "array([[2.51847007, 0.27852622, 1.66550726, 1.60004284, 1.08834037],\n",
       "       [2.48896731, 0.27771261, 1.66550726, 1.60004284, 1.08834037],\n",
       "       [2.48896731, 0.27364453, 1.66550726, 1.60004284, 1.08834037],\n",
       "       ...,\n",
       "       [0.47294534, 1.87375407, 1.66550726, 1.60004284, 1.08834037],\n",
       "       [0.47294534, 1.90358662, 1.66550726, 1.60004284, 1.08834037],\n",
       "       [0.47294534, 1.89273842, 1.66550726, 1.60004284, 1.08834037]])"
      ]
     },
     "execution_count": 423,
     "metadata": {},
     "output_type": "execute_result"
    }
   ],
   "source": [
    "inputs_std"
   ]
  },
  {
   "cell_type": "code",
   "execution_count": 391,
   "metadata": {},
   "outputs": [],
   "source": [
    "inputs_cov= np.cov(inputs_std.T)"
   ]
  },
  {
   "cell_type": "code",
   "execution_count": 431,
   "metadata": {},
   "outputs": [
    {
     "data": {
      "text/plain": [
       "array([0.88777061, 0.11222297])"
      ]
     },
     "execution_count": 431,
     "metadata": {},
     "output_type": "execute_result"
    }
   ],
   "source": [
    "pca.explained_variance_ratio_"
   ]
  },
  {
   "cell_type": "code",
   "execution_count": 433,
   "metadata": {},
   "outputs": [
    {
     "data": {
      "image/png": "[encoded data removed]",
      "text/plain": [
       "<Figure size 432x288 with 1 Axes>"
      ]
     },
     "metadata": {
      "needs_background": "light"
     },
     "output_type": "display_data"
    }
   ],
   "source": [
    "PC_values = np.arange(1) + 1\n",
    "plt.plot(PC_values, pca.explained_variance_ratio_[0], 'ro-')\n",
    "plt.title('Scree Plot')\n",
    "plt.xlabel('Principal Component')\n",
    "plt.ylabel('Proportion of Variance Explained')\n",
    "plt.show()"
   ]
  },
  {
   "cell_type": "code",
   "execution_count": 346,
   "metadata": {},
   "outputs": [
    {
     "data": {
      "text/plain": [
       "array([8.87770611e-01, 1.12222966e-01, 5.01350661e-06, 1.40911903e-06,\n",
       "       3.06891423e-15])"
      ]
     },
     "execution_count": 346,
     "metadata": {},
     "output_type": "execute_result"
    }
   ],
   "source": [
    "pca.explained_variance_ratio_"
   ]
  },
  {
   "cell_type": "code",
   "execution_count": 347,
   "metadata": {},
   "outputs": [
    {
     "ename": "NameError",
     "evalue": "name 'X_train_num' is not defined",
     "output_type": "error",
     "traceback": [
      "\u001b[1;31m---------------------------------------------------------------------------\u001b[0m",
      "\u001b[1;31mNameError\u001b[0m                                 Traceback (most recent call last)",
      "\u001b[1;32m<ipython-input-347-0346dea36461>\u001b[0m in \u001b[0;36m<module>\u001b[1;34m\u001b[0m\n\u001b[0;32m      1\u001b[0m \u001b[0mpca99\u001b[0m \u001b[1;33m=\u001b[0m \u001b[0mPCA\u001b[0m\u001b[1;33m(\u001b[0m\u001b[1;36m.99\u001b[0m\u001b[1;33m)\u001b[0m\u001b[1;33m\u001b[0m\u001b[1;33m\u001b[0m\u001b[0m\n\u001b[1;32m----> 2\u001b[1;33m \u001b[0mpca99\u001b[0m\u001b[1;33m.\u001b[0m\u001b[0mfit\u001b[0m\u001b[1;33m(\u001b[0m\u001b[0mX_train_num\u001b[0m\u001b[1;33m)\u001b[0m\u001b[1;33m\u001b[0m\u001b[1;33m\u001b[0m\u001b[0m\n\u001b[0m\u001b[0;32m      3\u001b[0m \u001b[0mpca99\u001b[0m\u001b[1;33m.\u001b[0m\u001b[0mexplained_variance_ratio_\u001b[0m\u001b[1;33m\u001b[0m\u001b[1;33m\u001b[0m\u001b[0m\n",
      "\u001b[1;31mNameError\u001b[0m: name 'X_train_num' is not defined"
     ]
    }
   ],
   "source": [
    "pca99 = PCA(.99)\n",
    "pca99.fit(X_train_num)\n",
    "pca99.explained_variance_ratio_"
   ]
  },
  {
   "cell_type": "code",
   "execution_count": null,
   "metadata": {},
   "outputs": [],
   "source": []
  }
 ],
 "metadata": {
  "kernelspec": {
   "display_name": "Python 3",
   "language": "python",
   "name": "python3"
  },
  "language_info": {
   "codemirror_mode": {
    "name": "ipython",
    "version": 3
   },
   "file_extension": ".py",
   "mimetype": "text/x-python",
   "name": "python",
   "nbconvert_exporter": "python",
   "pygments_lexer": "ipython3",
   "version": "3.8.3"
  }
 },
 "nbformat": 4,
 "nbformat_minor": 4
}
